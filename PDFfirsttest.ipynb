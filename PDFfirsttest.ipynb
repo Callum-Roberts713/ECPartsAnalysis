{
  "nbformat": 4,
  "nbformat_minor": 0,
  "metadata": {
    "colab": {
      "provenance": [],
      "authorship_tag": "ABX9TyPLAfFXnQuM16YnA4w6DgT8",
      "include_colab_link": true
    },
    "kernelspec": {
      "name": "python3",
      "display_name": "Python 3"
    },
    "language_info": {
      "name": "python"
    }
  },
  "cells": [
    {
      "cell_type": "markdown",
      "metadata": {
        "id": "view-in-github",
        "colab_type": "text"
      },
      "source": [
        "<a href=\"https://colab.research.google.com/github/Callum-Roberts713/ECPartsAnalysis/blob/main/PDFfirsttest.ipynb\" target=\"_parent\"><img src=\"https://colab.research.google.com/assets/colab-badge.svg\" alt=\"Open In Colab\"/></a>"
      ]
    },
    {
      "cell_type": "code",
      "execution_count": null,
      "metadata": {
        "colab": {
          "base_uri": "https://localhost:8080/"
        },
        "id": "7CX30E8vtghx",
        "outputId": "d589ae4d-0278-4c8e-e969-c044247da1c7"
      },
      "outputs": [
        {
          "output_type": "stream",
          "name": "stdout",
          "text": [
            "Collecting pypdf\n",
            "  Downloading pypdf-4.0.2-py3-none-any.whl (283 kB)\n",
            "\u001b[?25l     \u001b[90m━━━━━━━━━━━━━━━━━━━━━━━━━━━━━━━━━━━━━━━━\u001b[0m \u001b[32m0.0/284.0 kB\u001b[0m \u001b[31m?\u001b[0m eta \u001b[36m-:--:--\u001b[0m\r\u001b[2K     \u001b[91m━━━━━━━━━━━━━━━━━━━━━━━━━━━━━━━━━━\u001b[0m\u001b[91m╸\u001b[0m\u001b[90m━━━━━\u001b[0m \u001b[32m245.8/284.0 kB\u001b[0m \u001b[31m7.3 MB/s\u001b[0m eta \u001b[36m0:00:01\u001b[0m\r\u001b[2K     \u001b[90m━━━━━━━━━━━━━━━━━━━━━━━━━━━━━━━━━━━━━━━━\u001b[0m \u001b[32m284.0/284.0 kB\u001b[0m \u001b[31m6.4 MB/s\u001b[0m eta \u001b[36m0:00:00\u001b[0m\n",
            "\u001b[?25hInstalling collected packages: pypdf\n",
            "Successfully installed pypdf-4.0.2\n"
          ]
        }
      ],
      "source": [
        "!pip install pypdf\n",
        "\n",
        "from pypdf import PdfReader\n",
        "import pandas as pd\n",
        "import numpy as np\n"
      ]
    },
    {
      "cell_type": "code",
      "source": [
        "#def DataGather(file_path):KIC062240_GR204400-4.pdf  KIC061884_122942 issue 1.pdf\n",
        "file_path = \"KIC062718_600301-01.2.pdf\"\n",
        "reader = PdfReader(file_path)\n",
        "page1 = reader.pages[0]\n",
        "pdfstring1 = page1.extract_text()\n",
        "delimiters = [\"\\n\", \":\", \"£\"]   #\n",
        "\n",
        "for delimiter in delimiters:\n",
        "    pdfstring1 = \" \".join(pdfstring1.split(delimiter))\n",
        "\n",
        "splitpdfstring = pdfstring1.split()\n",
        "splitpdfstring= [line.strip() for line in splitpdfstring]\n",
        "df = pd.DataFrame(splitpdfstring)\n",
        "df[0] = df[0].str.replace(\",(\\d{3})\", \"\\\\1\")\n",
        "print(df)\n",
        "df.to_csv(\"Test.csv\")\n",
        "\n",
        "\n",
        "#DataGather(\"KIC061884_122942 issue 1.pdf\")"
      ],
      "metadata": {
        "colab": {
          "base_uri": "https://localhost:8080/"
        },
        "id": "Wa-PdmVLtnzy",
        "outputId": "ea8edcea-6538-4d4b-bcbb-cbdcd8021a06"
      },
      "execution_count": null,
      "outputs": [
        {
          "output_type": "stream",
          "name": "stdout",
          "text": [
            "            0\n",
            "0        NCAB\n",
            "1       Group\n",
            "2     Kestrel\n",
            "3     Limited\n",
            "4    Commerce\n",
            "..        ...\n",
            "266      less\n",
            "267      than\n",
            "268       100\n",
            "269        in\n",
            "270    value.\n",
            "\n",
            "[271 rows x 1 columns]\n"
          ]
        },
        {
          "output_type": "stream",
          "name": "stderr",
          "text": [
            "<ipython-input-2-d36fe17c3c90>:14: FutureWarning: The default value of regex will change from True to False in a future version.\n",
            "  df[0] = df[0].str.replace(\",(\\d{3})\", \"\\\\1\")\n"
          ]
        }
      ]
    },
    {
      "cell_type": "code",
      "source": [
        "df2 = df.iloc[:38]\n",
        "print(df2)\n",
        "KestralRef = df.iloc[24]\n",
        "print(KestralRef)"
      ],
      "metadata": {
        "colab": {
          "base_uri": "https://localhost:8080/"
        },
        "id": "uMZBo5lhuCeF",
        "outputId": "8821f39d-7ffc-4810-c103-e6e38d9c9348"
      },
      "execution_count": null,
      "outputs": [
        {
          "output_type": "stream",
          "name": "stdout",
          "text": [
            "                                                    0\n",
            "0                                                NCAB\n",
            "1                                               Group\n",
            "2                                             Kestrel\n",
            "3                                             Limited\n",
            "4                                            Commerce\n",
            "5                                                 Way\n",
            "6                                             Lancing\n",
            "7                                                West\n",
            "8                                             Sussex,\n",
            "9                                                BN15\n",
            "10                                                8TQ\n",
            "11                                             United\n",
            "12                                            Kingdom\n",
            "13                                                Tel\n",
            "14                                                +44\n",
            "15                                            (0)1903\n",
            "16                                             768130\n",
            "17                        sales@kestrelcircuits.co.uk\n",
            "18                                                 To\n",
            "19                                               Date\n",
            "20                                         03/04/2023\n",
            "21                                            Company\n",
            "22                                                Our\n",
            "23                                                Ref\n",
            "24                                          KIC062718\n",
            "25                                               Your\n",
            "26                                                Ref\n",
            "27  ----------------------------------------------...\n",
            "28  ----------------------------------------------...\n",
            "29                                               Each\n",
            "30                                              Order\n",
            "31                                              Value\n",
            "32                                               Each\n",
            "33                                              Order\n",
            "34                                              Value\n",
            "35                                               Each\n",
            "36                                              Order\n",
            "37                                              Value\n",
            "0    KIC062718\n",
            "Name: 24, dtype: object\n"
          ]
        }
      ]
    },
    {
      "cell_type": "code",
      "source": [
        "def TableValues():\n",
        "  EndofTable = df[df[0]=='Working'].index.item()\n",
        "  TableMax = EndofTable-1\n",
        "  Elements = []\n",
        "  nums = []\n",
        "  Elements.append(df.iloc[38:TableMax].values) #.tolist()\n",
        "\n",
        "  avg1 = [float(i)  for val in Elements for i in val]\n",
        "\n",
        "  Elements2 = [i * 1.2 for i in avg1]\n",
        "\n",
        "  for i in range(len(Elements2)):\n",
        "    if Elements2[i] == 0.00:\n",
        "      print(0)\n",
        "    else:\n",
        "      print(Elements2[i])\n",
        "\n",
        "\n",
        "TableValues()"
      ],
      "metadata": {
        "colab": {
          "base_uri": "https://localhost:8080/"
        },
        "id": "sHiE-x5EuZZI",
        "outputId": "f5054bf8-f049-4966-d0cd-c80a7beb6379"
      },
      "execution_count": null,
      "outputs": [
        {
          "output_type": "stream",
          "name": "stdout",
          "text": [
            "0\n",
            "1200.0\n",
            "2.376\n",
            "2376.0\n",
            "0\n",
            "0\n",
            "0\n",
            "0\n",
            "0\n",
            "12000.0\n",
            "1.692\n",
            "16920.0\n",
            "0\n",
            "0\n",
            "0\n",
            "0\n",
            "0\n",
            "0\n",
            "0\n",
            "0\n",
            "0\n",
            "0\n",
            "0\n",
            "0\n",
            "0\n",
            "0\n",
            "0\n",
            "0\n",
            "0\n",
            "0\n",
            "0\n",
            "0\n",
            "0\n",
            "0\n",
            "0\n",
            "0\n",
            "0\n",
            "0\n",
            "0\n",
            "0\n"
          ]
        },
        {
          "output_type": "stream",
          "name": "stderr",
          "text": [
            "<ipython-input-10-47bb1cc357ca>:8: DeprecationWarning: Conversion of an array with ndim > 0 to a scalar is deprecated, and will error in future. Ensure you extract a single element from your array before performing this operation. (Deprecated NumPy 1.25.)\n",
            "  avg1 = [float(i)  for val in Elements for i in val]\n"
          ]
        }
      ]
    },
    {
      "cell_type": "code",
      "source": [
        "def GetValue(ItemName):\n",
        "  Item = df[df[0] == ItemName].first_valid_index()   #.item()\n",
        "  Index = Item + 1\n",
        "  ItemString =  f\"{df.iloc[Index].values[0]}\"\n",
        "  print(ItemString)\n",
        "GetValue(\"Charge\")"
      ],
      "metadata": {
        "colab": {
          "base_uri": "https://localhost:8080/"
        },
        "id": "wBd8bgUuynj5",
        "outputId": "cf4ff23f-f7ca-4045-c84f-c1750461d553"
      },
      "execution_count": null,
      "outputs": [
        {
          "output_type": "stream",
          "name": "stdout",
          "text": [
            "590.00\n"
          ]
        }
      ]
    },
    {
      "cell_type": "code",
      "source": [
        "def GetSizeValue(ItemName):\n",
        "    Item = df[df[0] == ItemName].first_valid_index()    #.item()\n",
        "    Index1 = Item - 1\n",
        "    Index2 = Index1 - 1\n",
        "    Index3 = Index2 - 1\n",
        "    ItemString =  f\"{str(df.iloc[Index3].values[0])} {str(df.iloc[Index2].values[0])} {str(df.iloc[Index1].values[0])}\"\n",
        "    print(ItemString)\n",
        "GetSizeValue(\"Circuits\")"
      ],
      "metadata": {
        "colab": {
          "base_uri": "https://localhost:8080/"
        },
        "id": "HIqaQVQ-HCdp",
        "outputId": "ac7e7d1e-29c7-4dbc-d16e-02903a0a3310"
      },
      "execution_count": null,
      "outputs": [
        {
          "output_type": "stream",
          "name": "stdout",
          "text": [
            "120.00 x 21.00\n"
          ]
        }
      ]
    },
    {
      "cell_type": "code",
      "source": [
        "def GetAssumptions(ItemName):\n",
        "  Item = df[df[0] == ItemName].index  #.item()\n",
        "  AssumptionsList = []\n",
        "  IndexStart = Item[0] +1\n",
        "  IndexEnd = Item[1]-1\n",
        "  Z = IndexEnd - IndexStart\n",
        "  for i in range(Z):\n",
        "      Length = IndexStart + i\n",
        "      AssumptionsList.append(str(df.iloc[Length].values[0]))\n",
        "  AssumptionsString = \" \".join(AssumptionsList).replace(\".\", \".\\n\")\n",
        "\n",
        "  print(AssumptionsString)\n",
        "\n",
        "\n",
        "GetAssumptions(\"----------------------------------------------------------------------------------------------------------------------------------------------------------------------------\")\n"
      ],
      "metadata": {
        "id": "rPsrIdDxMExf",
        "colab": {
          "base_uri": "https://localhost:8080/"
        },
        "outputId": "c46fdf9a-f14e-48e4-994e-c74fdd19a3a8"
      },
      "execution_count": null,
      "outputs": [
        {
          "output_type": "stream",
          "name": "stdout",
          "text": [
            "Due to very tight track and gap we have quoted based on 1oz copper.\n",
            " IPC Type VII via holes required.\n",
            " Controlled Impedance required.\n",
            " Price based on the specified High Tg '370HR'\n"
          ]
        }
      ]
    },
    {
      "cell_type": "code",
      "source": [],
      "metadata": {
        "id": "4c1CtCkAPd4q"
      },
      "execution_count": null,
      "outputs": []
    }
  ]
}