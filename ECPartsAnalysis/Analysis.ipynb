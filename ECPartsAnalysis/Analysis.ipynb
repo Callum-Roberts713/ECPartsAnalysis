{
 "cells": [
  {
   "cell_type": "code",
   "execution_count": 99,
   "metadata": {},
   "outputs": [],
   "source": [
    "import pandas as pd\n",
    "import numpy as np\n",
    "from matplotlib import *\n",
    "import matplotlib.pyplot as plt\n",
    "%matplotlib inline\n",
    "from datetime import datetime\n",
    "from operator import attrgetter"
   ]
  },
  {
   "cell_type": "code",
   "execution_count": null,
   "metadata": {},
   "outputs": [],
   "source": [
    "df = pd.read_csv(\"ECParts.csv\")"
   ]
  },
  {
   "cell_type": "code",
   "execution_count": 101,
   "metadata": {},
   "outputs": [
    {
     "name": "stdout",
     "output_type": "stream",
     "text": [
      "Spare6\n",
      "OGEL    450\n",
      "SIEL     70\n",
      "Yes      24\n",
      "Name: count, dtype: int64\n"
     ]
    }
   ],
   "source": [
    "Licences = df[\"Spare6\"].value_counts()\n",
    "print(Licences)"
   ]
  },
  {
   "cell_type": "code",
   "execution_count": 102,
   "metadata": {},
   "outputs": [
    {
     "name": "stdout",
     "output_type": "stream",
     "text": [
      "Spare5\n",
      "ML5b          196\n",
      "ML10A          37\n",
      "ML4A           27\n",
      "ML9A           21\n",
      "ML5a           18\n",
      "ML11a          16\n",
      "ML5c           14\n",
      "ML4a           13\n",
      "ML18A          12\n",
      "ML6A           12\n",
      "ML5A           10\n",
      "ML14            9\n",
      "ML18            8\n",
      "ML              6\n",
      "Ml5b            6\n",
      "ML11            6\n",
      "Ml10A           5\n",
      "ML5B            5\n",
      "ML4b            4\n",
      "ML4             4\n",
      "ML5             4\n",
      "ML9c            4\n",
      "ML10C           3\n",
      "ML5d            3\n",
      "ML15D           3\n",
      "ML10            2\n",
      "ML18a           2\n",
      "ML9A1           2\n",
      "ML11e           1\n",
      "ML11A           1\n",
      "ML2A            1\n",
      "5A001b          1\n",
      "ML3A            1\n",
      "ML4B            1\n",
      "ML10a           1\n",
      "10a OME         1\n",
      "ML2a            1\n",
      "ML 4b1          1\n",
      "ML14 OME        1\n",
      "ML18b           1\n",
      "ML4b1           1\n",
      "ML4B1           1\n",
      "ML14 OME\\r      1\n",
      "ML11E           1\n",
      "ML4c            1\n",
      "ML 5a           1\n",
      "ml5b            1\n",
      "ML-11a          1\n",
      "Ml4A            1\n",
      "ML14A           1\n",
      "ML9a1           1\n",
      "Ml11a           1\n",
      "ML6a            1\n",
      "5b OME          1\n",
      "Ml5b1           1\n",
      "Name: count, dtype: int64\n"
     ]
    }
   ],
   "source": [
    "MLCodes = df['Spare5'].value_counts()\n",
    "print(MLCodes)"
   ]
  },
  {
   "cell_type": "code",
   "execution_count": 103,
   "metadata": {},
   "outputs": [
    {
     "name": "stdout",
     "output_type": "stream",
     "text": [
      "Aalpha2\n",
      "New         345\n",
      "Up Issue    100\n",
      "Re-Tool      69\n",
      "Repeat       25\n",
      "Up issue      1\n",
      "Retool        1\n",
      "Name: count, dtype: int64\n"
     ]
    }
   ],
   "source": [
    "RepeatPart = df['Aalpha2'].value_counts()\n",
    "print(RepeatPart)"
   ]
  },
  {
   "cell_type": "code",
   "execution_count": 104,
   "metadata": {},
   "outputs": [
    {
     "name": "stdout",
     "output_type": "stream",
     "text": [
      "year\n",
      "2023.0    112\n",
      "2024.0    107\n",
      "2022.0     99\n",
      "2021.0     64\n",
      "2019.0     59\n",
      "2020.0     58\n",
      "2016.0     14\n",
      "2018.0     14\n",
      "2017.0     13\n",
      "2013.0      2\n",
      "2014.0      2\n",
      "2012.0      1\n",
      "2015.0      1\n",
      "Name: count, dtype: int64\n"
     ]
    }
   ],
   "source": [
    "\n",
    "def DateSplitMethod(Column):\n",
    "    df[f'{Column}'] = pd.to_datetime(df[f'{Column}'], format=\"mixed\" , dayfirst=True)\n",
    "\n",
    "    attr_list = ['day', 'month', 'year']\n",
    "    attrs = attrgetter(*attr_list)\n",
    "    df[attr_list] = df[f'{Column}'].apply(attrs).apply(pd.Series)\n",
    "    \n",
    "    print(df['year'].value_counts())\n",
    "    \n",
    "DateSplitMethod(Column=\"Date\")"
   ]
  },
  {
   "cell_type": "code",
   "execution_count": 105,
   "metadata": {},
   "outputs": [
    {
     "name": "stdout",
     "output_type": "stream",
     "text": [
      "year\n",
      "2023.0    114\n",
      "2024.0    103\n",
      "2022.0     96\n",
      "2021.0     64\n",
      "2019.0     58\n",
      "2020.0     56\n",
      "2016.0     14\n",
      "2018.0     13\n",
      "2017.0     11\n",
      "2014.0      3\n",
      "2012.0      1\n",
      "2013.0      1\n",
      "2015.0      1\n",
      "Name: count, dtype: int64\n"
     ]
    }
   ],
   "source": [
    "DateSplitMethod(Column=\"Toolingdate\")"
   ]
  },
  {
   "cell_type": "code",
   "execution_count": 106,
   "metadata": {},
   "outputs": [
    {
     "name": "stdout",
     "output_type": "stream",
     "text": [
      "year\n",
      "2016.0    7\n",
      "2015.0    4\n",
      "2021.0    1\n",
      "2024.0    1\n",
      "2022.0    1\n",
      "Name: count, dtype: int64\n"
     ]
    }
   ],
   "source": [
    "DateSplitMethod(Column=\"Spared\")"
   ]
  },
  {
   "cell_type": "code",
   "execution_count": 107,
   "metadata": {},
   "outputs": [
    {
     "name": "stdout",
     "output_type": "stream",
     "text": [
      "Customer\n",
      "Elmatica AS Germany               293\n",
      "Elmatica AS Norway                 62\n",
      "NCAB Group SWEDEN AB               52\n",
      "Elmatica GmBH                      39\n",
      "Confidee AS                        21\n",
      "NCAB Group Norway                  20\n",
      "Centum Electronics                 15\n",
      "Confidee AB                        10\n",
      "NCAB GROUP IBERIA S.A.U.            6\n",
      "NCAB Group Benelux B.V.             5\n",
      "NCAB Sweden                         3\n",
      "Elmatica                            3\n",
      "NCAB Group Finland OY               3\n",
      "Confidee GmbH                       3\n",
      "Thales Defense & Security, Inc      3\n",
      "Renishaw PLC                        2\n",
      "NCAB France                         2\n",
      "Thales Defense & Secuirty, Inc      2\n",
      "Intracom Defense Single Member      2\n",
      "NCAB Group Sweden                   1\n",
      "HCD                                 1\n",
      "Zettlex UK Ltd                      1\n",
      "NCAB Norway                         1\n",
      "Thales Nederland B.V.               1\n",
      "Name: count, dtype: int64\n"
     ]
    }
   ],
   "source": [
    "print(df['Customer'].value_counts())"
   ]
  },
  {
   "cell_type": "code",
   "execution_count": 108,
   "metadata": {},
   "outputs": [
    {
     "name": "stdout",
     "output_type": "stream",
     "text": [
      "Numm2\n",
      "1.0    325\n",
      "4.0    112\n",
      "6.0     53\n",
      "2.0     13\n",
      "0.0      9\n",
      "5.0      6\n",
      "3.0      4\n",
      "Name: count, dtype: int64\n"
     ]
    }
   ],
   "source": [
    "print(df['Numm2'].value_counts())"
   ]
  },
  {
   "cell_type": "code",
   "execution_count": null,
   "metadata": {},
   "outputs": [],
   "source": []
  }
 ],
 "metadata": {
  "kernelspec": {
   "display_name": "Python 3",
   "language": "python",
   "name": "python3"
  },
  "language_info": {
   "codemirror_mode": {
    "name": "ipython",
    "version": 3
   },
   "file_extension": ".py",
   "mimetype": "text/x-python",
   "name": "python",
   "nbconvert_exporter": "python",
   "pygments_lexer": "ipython3",
   "version": "3.12.0"
  }
 },
 "nbformat": 4,
 "nbformat_minor": 2
}
